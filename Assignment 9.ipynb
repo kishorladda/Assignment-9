{
 "cells": [
  {
   "cell_type": "markdown",
   "id": "8d60bced-a7aa-4f84-ba3d-e1562b7d2178",
   "metadata": {},
   "source": [
    "Q 1] What is Abstraction in OOps? Explain with an example."
   ]
  },
  {
   "cell_type": "markdown",
   "id": "69b87cad-6eab-4ded-bd73-7eadb945d071",
   "metadata": {},
   "source": [
    "Ans- Abstraction is a fundamental concept in object-oriented programming that refers to the act of hiding or abstracting away the complexity of a system or component, while exposing only the essential details necessary for interaction with that system or component.\n",
    "\n",
    "In practical terms, abstraction can be thought of as a way to simplify the design of a program by breaking it down into smaller, more manageable components, each of which can be interacted with at a higher level of abstraction, without needing to understand the underlying implementation details.\n",
    "\n",
    "For example, let's consider a car. A driver interacts with a car at a high level of abstraction, using the steering wheel, pedals, and dashboard controls to drive the car, without needing to understand how the engine works or how the transmission shifts gears. The driver doesn't need to know the details of how the car is constructed or how the different systems interact with one another; they only need to understand how to interact with the car at a higher level of abstraction.\n",
    "\n",
    "Similarly, in software development, abstraction can be used to simplify the design of a program by breaking it down into smaller, more manageable components, each of which can be interacted with at a higher level of abstraction. For example, a programmer might create a class that encapsulates the details of how a database is accessed, allowing other parts of the program to interact with the database at a higher level of abstraction, without needing to understand the details of how the database is accessed. This can make the program easier to maintain and modify, since changes to the implementation details of the database can be made without affecting the rest of the program that interacts with it."
   ]
  },
  {
   "cell_type": "markdown",
   "id": "974fec9e-4917-402f-ba7b-01887d6637b6",
   "metadata": {},
   "source": [
    "Q 2] Differentiate between Abstraction and Encapsulation. Explain with an example."
   ]
  },
  {
   "cell_type": "markdown",
   "id": "43eed4c0-7de7-423c-93e0-9f9a14088847",
   "metadata": {},
   "source": [
    "Ans- Abstraction and encapsulation are two important concepts in object-oriented programming that are often used together, but they are not the same thing. Here's how they differ and an example of each:\n",
    "\n",
    "Abstraction is the process of reducing complexity by hiding unnecessary details while showing only essential features. It focuses on the \"what\" instead of the \"how\". Abstraction is a way of organizing the complexity of a system and reducing its cognitive load. It can be used to represent an object in a simpler and more abstract way.\n",
    "\n",
    "Encapsulation, on the other hand, is the process of wrapping data and code into a single unit. It is used to hide the implementation details of a system from the user. It involves defining a boundary for an object and only exposing the necessary interfaces, so that the object's internal workings can't be tampered with or accessed directly from the outside.\n",
    "\n",
    "Here's an example to illustrate the difference between abstraction and encapsulation:\n",
    "\n",
    "Let's say you have a car that you want to represent in a program. Abstraction would involve identifying the essential features of the car that you want to represent, such as its make, model, and color. You would create a Car class that has these properties and maybe some methods to control the car's behavior, such as accelerating, braking, and turning. You would not need to expose the internal details of how the car works, such as the engine's combustion process, the fuel injection system, or the gear ratio.\n",
    "\n",
    "Encapsulation, on the other hand, would involve hiding the implementation details of the Car class from the user. You might do this by making the Car class's properties and methods private and only exposing a public interface to the user. For example, you might have a method called \"startCar()\" that the user can call to start the car, but the implementation details of how the engine starts and runs would be hidden from the user.\n",
    "\n",
    "So, in summary, abstraction and encapsulation are both important concepts in object-oriented programming, but they serve different purposes. Abstraction is used to simplify the representation of an object, while encapsulation is used to hide the implementation details of an object."
   ]
  },
  {
   "cell_type": "markdown",
   "id": "88a27670-518b-4269-856e-0fad9b83f5fa",
   "metadata": {},
   "source": [
    "Q 3 ] What is abc module in python? Why is it used?"
   ]
  },
  {
   "cell_type": "markdown",
   "id": "37036b33-3a9f-4f49-a639-69e62ffffa26",
   "metadata": {},
   "source": [
    "Ans - The abc module in Python stands for \"Abstract Base Classes\" and it provides an infrastructure for defining abstract base classes. An abstract base class is a class that cannot be instantiated, but provides a common interface for its subclasses. The abc module provides a way to define abstract base classes, and also provides a set of utilities for working with them.\n",
    "\n",
    "Abstract base classes are used in Python for creating a common API that can be implemented by multiple classes. They define a set of methods that must be implemented by any concrete subclass, and these methods can be used interchangeably with objects of the abstract base class. This allows for greater flexibility and extensibility in object-oriented programming.\n",
    "\n",
    "The abc module provides several important classes and functions, including:\n",
    "\n",
    "    ABC: a class that can be used as a base class for defining abstract base classes\n",
    "    abstractmethod: a decorator that indicates that a method is abstract and must be implemented by concrete subclasses\n",
    "    register: a function that can be used to register a class as a virtual subclass of an abstract base class, even if it doesn't actually inherit from the abstract base class\n",
    "    \n",
    "    \n",
    "The abc module is used in many Python libraries and frameworks to define common APIs that can be implemented by multiple classes. It's particularly useful for creating pluggable architectures where different components can be swapped out without breaking the overall system."
   ]
  },
  {
   "cell_type": "markdown",
   "id": "7032613d-073d-4c85-b069-ab3714d54e37",
   "metadata": {},
   "source": [
    "Q 4]How can we achieve data abstraction?"
   ]
  },
  {
   "cell_type": "markdown",
   "id": "6f7ea5e6-9851-4dab-a039-172696dc2705",
   "metadata": {},
   "source": [
    "Ans - In object-oriented programming, data abstraction can be achieved by using abstract classes and interfaces. Abstract classes and interfaces provide a way to define a common interface for a set of related classes, without specifying the implementation details of those classes.\n",
    "\n",
    "Abstract classes are classes that cannot be instantiated directly, but provide a set of methods that must be implemented by concrete subclasses. Abstract classes are typically used to define a common interface for a set of related classes, while leaving the implementation details up to the concrete subclasses.\n",
    "\n",
    "Interfaces are similar to abstract classes, but they only define method signatures and constants, without any implementation details. Interfaces can be implemented by any class, and they provide a way to define a common API that can be used by multiple classes."
   ]
  },
  {
   "cell_type": "code",
   "execution_count": 2,
   "id": "6339492a-aba1-45ea-b268-459c2c7a7d4b",
   "metadata": {},
   "outputs": [
    {
     "name": "stdout",
     "output_type": "stream",
     "text": [
      "Woof\n",
      "Meow\n"
     ]
    }
   ],
   "source": [
    "from abc import ABC, abstractmethod\n",
    "\n",
    "class Animal(ABC):\n",
    "    @abstractmethod\n",
    "    def speak(self):\n",
    "        pass\n",
    "\n",
    "class Dog(Animal):\n",
    "    def speak(self):\n",
    "        return \"Woof\"\n",
    "\n",
    "class Cat(Animal):\n",
    "    def speak(self):\n",
    "        return \"Meow\"\n",
    "\n",
    "animals = [Dog(), Cat()]\n",
    "\n",
    "for animal in animals:\n",
    "    print(animal.speak())\n"
   ]
  },
  {
   "cell_type": "markdown",
   "id": "5b5b101e-1c09-4252-8f95-afff78231642",
   "metadata": {},
   "source": [
    "Q 5]Can we create an instance of an abstract class? Explain your answer."
   ]
  },
  {
   "cell_type": "markdown",
   "id": "85cae1bf-278d-47e4-8ca8-cead5ffa65ad",
   "metadata": {},
   "source": [
    "Ans - No, we cannot create an instance of an abstract class in Python. Abstract classes are classes that contain one or more abstract methods, which are methods that are declared but not implemented. An abstract class is meant to be subclassed, and the concrete subclasses must implement all the abstract methods.\n",
    "\n",
    "When we try to create an instance of an abstract class, Python raises a TypeError, indicating that the class is abstract and cannot be instantiated\n",
    "\n",
    "The purpose of an abstract class is to define a common interface for a set of related classes, without specifying the implementation details of those classes. By making a class abstract, we ensure that it cannot be instantiated directly, but can only be subclassed.\n",
    "\n",
    "So, while we cannot create an instance of an abstract class, we can create instances of its concrete subclasses that implement all the abstract methods. This way, we can create objects with the desired behavior and properties, while still ensuring that they conform to a common interface defined by the abstract class."
   ]
  },
  {
   "cell_type": "code",
   "execution_count": 5,
   "id": "1fcb3ad1-da42-404a-b48b-ed705ec30d1f",
   "metadata": {},
   "outputs": [],
   "source": [
    "from abc import ABC, abstractmethod\n",
    "\n",
    "class MyAbstractClass(ABC):\n",
    "    @abstractmethod\n",
    "    def my_abstract_method(self):\n",
    "        pass"
   ]
  },
  {
   "cell_type": "code",
   "execution_count": 4,
   "id": "edb7374a-696a-419a-a178-73c05bc08b6e",
   "metadata": {},
   "outputs": [
    {
     "ename": "TypeError",
     "evalue": "Can't instantiate abstract class MyAbstractClass with abstract method my_abstract_method",
     "output_type": "error",
     "traceback": [
      "\u001b[0;31m---------------------------------------------------------------------------\u001b[0m",
      "\u001b[0;31mTypeError\u001b[0m                                 Traceback (most recent call last)",
      "Cell \u001b[0;32mIn[4], line 1\u001b[0m\n\u001b[0;32m----> 1\u001b[0m my_obj \u001b[38;5;241m=\u001b[39m \u001b[43mMyAbstractClass\u001b[49m\u001b[43m(\u001b[49m\u001b[43m)\u001b[49m\n",
      "\u001b[0;31mTypeError\u001b[0m: Can't instantiate abstract class MyAbstractClass with abstract method my_abstract_method"
     ]
    }
   ],
   "source": [
    "my_obj = MyAbstractClass()"
   ]
  },
  {
   "cell_type": "code",
   "execution_count": null,
   "id": "2e77bae3-15da-4369-aa4c-725a3e879ef6",
   "metadata": {},
   "outputs": [],
   "source": []
  }
 ],
 "metadata": {
  "kernelspec": {
   "display_name": "Python 3 (ipykernel)",
   "language": "python",
   "name": "python3"
  },
  "language_info": {
   "codemirror_mode": {
    "name": "ipython",
    "version": 3
   },
   "file_extension": ".py",
   "mimetype": "text/x-python",
   "name": "python",
   "nbconvert_exporter": "python",
   "pygments_lexer": "ipython3",
   "version": "3.10.8"
  }
 },
 "nbformat": 4,
 "nbformat_minor": 5
}
